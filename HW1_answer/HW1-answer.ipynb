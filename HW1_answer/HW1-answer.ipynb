{
 "cells": [
  {
   "cell_type": "markdown",
   "metadata": {},
   "source": [
    "### Write your full name and Perm number below"
   ]
  },
  {
   "cell_type": "markdown",
   "metadata": {},
   "source": [
    "Full name: Lastname, Firstname\n",
    "\n",
    "Perm number: \n",
    "\n",
    "Change the filename to HW1_ followed by your last name and first name with an underscore between them. For example, Abraham Lincoln's homework filename would be \"HW1_Lincoln_Abraham.ipynb\""
   ]
  },
  {
   "cell_type": "markdown",
   "metadata": {},
   "source": [
    "### **Week 1 - Homework**\n",
    "\n",
    "This week's homework is to generate two random DNA sequences and compare them.\n",
    "\n",
    "Please read the insturctions and comments in cells, and follow them carefully.\n",
    "\n",
    "---\n"
   ]
  },
  {
   "cell_type": "markdown",
   "metadata": {},
   "source": [
    "#### Dice() function\n",
    "\n",
    "The following cell defines a function, dice(), that you will use in the homework. You do not need to know how to define a function, which will a subject of the 2nd week. For now, it is enough to know that you will use it in the homework.\n",
    "\n",
    "\n",
    "The function dice() will randomly generate an integer number whenever you call it.\n",
    "The range of the generated random number is from 1 to 4.\n",
    "Run the cell so that the function can be used in the following cells."
   ]
  },
  {
   "cell_type": "code",
   "execution_count": null,
   "metadata": {},
   "outputs": [],
   "source": [
    "from random import seed\n",
    "from random import random\n",
    "from time import time\n",
    "from math import ceil\n",
    "seed(time())\n",
    "def dice():\n",
    "    a = ceil(random()*4)\n",
    "    if a>0:\n",
    "        return a\n",
    "    else:\n",
    "        return dice()"
   ]
  },
  {
   "cell_type": "markdown",
   "metadata": {},
   "source": [
    "Here is how to use the function dice()."
   ]
  },
  {
   "cell_type": "code",
   "execution_count": null,
   "metadata": {},
   "outputs": [],
   "source": [
    "n = dice()\n",
    "print(n)"
   ]
  },
  {
   "cell_type": "markdown",
   "metadata": {},
   "source": [
    "#### Problem 1 (0.5 pt)\n",
    "\n",
    "Write code to generate 100 random numbers ranging from 1 to 4 using the function dice(), and print them. Hint: Use a 'for' loop.\n",
    "\n",
    "Confirm that it indeed generates a random integer bewteen or equal to 1 and 4"
   ]
  },
  {
   "cell_type": "code",
   "execution_count": null,
   "metadata": {},
   "outputs": [],
   "source": [
    "for x in range(100):\n",
    "    print(dice())"
   ]
  },
  {
   "cell_type": "markdown",
   "metadata": {},
   "source": [
    "---"
   ]
  },
  {
   "cell_type": "markdown",
   "metadata": {},
   "source": [
    "#### Problem 2 (1.5 pt)\n",
    "Write code that counts the occurrance of each number while you run dice() 100 times. Then print the occurrance of each number. For example, the example output would look like: <br>\n",
    "    &emsp; Number 1 occurred 22 times <br>\n",
    "    &emsp; Number 2 occurred 30 times <br>\n",
    "    &emsp; Number 3 occurred 27 times <br>\n",
    "    &emsp; Number 4 occurred 21 times <br>\n",
    "    \n",
    "Hint 1: Use a variable for each number to count the ocurrence while generating the random integers.\n",
    "Hint 2: Use a IF/ELIF/ELSE statement."
   ]
  },
  {
   "cell_type": "code",
   "execution_count": null,
   "metadata": {},
   "outputs": [],
   "source": [
    "n1 = 0\n",
    "n2 = 0\n",
    "n3 = 0\n",
    "n4 = 0\n",
    "\n",
    "for x in range(100):\n",
    "    a = dice()\n",
    "    if a == 1:\n",
    "        n1 += 1\n",
    "    elif a == 2:\n",
    "        n2 += 1\n",
    "    elif a == 3:\n",
    "        n3 += 1\n",
    "    else:\n",
    "        n4 += 1\n",
    "        \n",
    "print('Number 1 occurred', n1, 'times')\n",
    "print('Number 2 occurred', n2, 'times')\n",
    "print('Number 3 occurred', n3, 'times')\n",
    "print('Number 4 occurred', n4, 'times')"
   ]
  },
  {
   "cell_type": "markdown",
   "metadata": {},
   "source": [
    "---"
   ]
  },
  {
   "cell_type": "markdown",
   "metadata": {},
   "source": [
    "#### Problem 3 (1.5 pt)\n",
    "Write code performing:\n",
    "1. Generate a random number using dice()\n",
    "2. Print a string using the following map\n",
    "    - If the generated number is 1, print '1 A'\n",
    "    - If the generated number is 2, print '2 T'\n",
    "    - If the generated number is 3, print '3 C'\n",
    "    - If the generated number is 4, print '4 G'\n",
    "    \n",
    "Hint: Use a IF/ELIF/ELSE statement."
   ]
  },
  {
   "cell_type": "code",
   "execution_count": null,
   "metadata": {},
   "outputs": [],
   "source": [
    "a = dice()\n",
    "if a == 1:\n",
    "    print(a, 'A')\n",
    "elif a == 2:\n",
    "    print(a, 'T')\n",
    "elif a == 3:\n",
    "    print(a, 'C')\n",
    "else:\n",
    "    print(a, 'G')"
   ]
  },
  {
   "cell_type": "markdown",
   "metadata": {},
   "source": [
    "---"
   ]
  },
  {
   "cell_type": "markdown",
   "metadata": {},
   "source": [
    "#### Problem 4 (2 pt)\n",
    "In this problem, we will generate a string with a length of 500. Run the dice() 500 time. For each run, convert the integer to one of ATCG using the map in Problem 3. Assign this string to a variable named \"seq\". Then print \"seq\".\n",
    "\n",
    "Hint: Strings can be concatenated using '+' operator. For example:\n",
    "```\n",
    "s = 'G'\n",
    "s += 'T'\n",
    "```"
   ]
  },
  {
   "cell_type": "code",
   "execution_count": null,
   "metadata": {},
   "outputs": [],
   "source": [
    "seq = ''\n",
    "for x in range(500):\n",
    "    a = dice()\n",
    "    if a == 1:\n",
    "        seq += 'A'\n",
    "    elif a == 2:\n",
    "        seq += 'T'\n",
    "    elif a == 3:\n",
    "        seq += 'C'\n",
    "    else:\n",
    "        seq += 'G'\n",
    "        \n",
    "print(seq)"
   ]
  },
  {
   "cell_type": "markdown",
   "metadata": {},
   "source": [
    "---\n",
    "<br>\n",
    "A letter in a string sequence can be individually accessible using index. For example, the first letter of the string variable \"seq\" can be accessed by \"seq[0]\" and the 500th letter can be accessed by \"seq[499]\". (In Python, the index of a string begins from 0. This may be different in other programming laguages such as Matlab, in which index begins from 1.)<br><br>\n",
    "&emsp; To access a few consecutive letters in the string, you can use ':' to indicate the range. For example, \"seq[2:5]\" represents the three letters from 3rd position (index 2) to 5th position (index 4). Note that the index 5 is not included, as in \"range(2,5)\" function. <br>\n",
    "\n",
    "#### Problem 5 (2 pt)\n",
    "Count the number of occurrence of a three-letter sequence 'ACT' in the \"seq\" generated in Problem 4. You must use a variable name \"count_ACT\". Print \"count_ACT\".\n",
    "<br><br>\n",
    "Hint 1: Use a FOR loop to access three-letter sequences from 1st postion to 498th position. There are total 498 possible sequences. <br>\n",
    "Hint 2: In each iteration, read the three-letter sequence at each position and compare it to 'ACT' using a comparison operator."
   ]
  },
  {
   "cell_type": "code",
   "execution_count": null,
   "metadata": {},
   "outputs": [],
   "source": [
    "count_ACT = 0;\n",
    "for x in range(498):\n",
    "    s = seq[x:(x+3)]\n",
    "    if s == 'ACT':\n",
    "        count_ACT += 1\n",
    "\n",
    "print(count_ACT)"
   ]
  },
  {
   "cell_type": "markdown",
   "metadata": {},
   "source": [
    "---"
   ]
  },
  {
   "cell_type": "markdown",
   "metadata": {},
   "source": [
    "#### Problem 6 (2.5 pt)\n",
    "\n",
    "Compare two sequences and count the number of positions where two sequences have the same letter. To this end, generate two sequences using Problem 4. You must use variable names \"seq1\" and \"seq2\" for these two sequences. The name of the counting variable should be \"count_same_pos\"."
   ]
  },
  {
   "cell_type": "code",
   "execution_count": null,
   "metadata": {},
   "outputs": [],
   "source": [
    "seq = ''\n",
    "for x in range(500):\n",
    "    a = dice()\n",
    "    if a == 1:\n",
    "        seq += 'A'\n",
    "    elif a == 2:\n",
    "        seq += 'T'\n",
    "    elif a == 3:\n",
    "        seq += 'C'\n",
    "    else:\n",
    "        seq += 'G'\n",
    "\n",
    "seq1 = seq;\n",
    "\n",
    "seq = ''\n",
    "for x in range(500):\n",
    "    a = dice()\n",
    "    if a == 1:\n",
    "        seq += 'A'\n",
    "    elif a == 2:\n",
    "        seq += 'T'\n",
    "    elif a == 3:\n",
    "        seq += 'C'\n",
    "    else:\n",
    "        seq += 'G'\n",
    "        \n",
    "seq2 = seq;\n",
    "\n",
    "count_same_pos = 0\n",
    "\n",
    "for ind in range(500):\n",
    "    if seq1[ind] == seq2[ind]:\n",
    "        count_same_pos += 1\n",
    "\n",
    "print(count_same_pos)"
   ]
  },
  {
   "cell_type": "code",
   "execution_count": null,
   "metadata": {},
   "outputs": [],
   "source": []
  }
 ],
 "metadata": {
  "kernelspec": {
   "display_name": "Python 3",
   "language": "python",
   "name": "python3"
  },
  "language_info": {
   "codemirror_mode": {
    "name": "ipython",
    "version": 3
   },
   "file_extension": ".py",
   "mimetype": "text/x-python",
   "name": "python",
   "nbconvert_exporter": "python",
   "pygments_lexer": "ipython3",
   "version": "3.7.4"
  }
 },
 "nbformat": 4,
 "nbformat_minor": 4
}
